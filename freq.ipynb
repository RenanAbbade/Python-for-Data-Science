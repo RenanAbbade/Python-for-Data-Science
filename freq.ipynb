{
  "nbformat": 4,
  "nbformat_minor": 0,
  "metadata": {
    "colab": {
      "name": "freq.ipynb",
      "provenance": [],
      "collapsed_sections": [],
      "authorship_tag": "ABX9TyM99VMfC/qN6RnVQgu3pkDH",
      "include_colab_link": true
    },
    "kernelspec": {
      "name": "python3",
      "display_name": "Python 3"
    },
    "language_info": {
      "name": "python"
    }
  },
  "cells": [
    {
      "cell_type": "markdown",
      "metadata": {
        "id": "view-in-github",
        "colab_type": "text"
      },
      "source": [
        "<a href=\"https://colab.research.google.com/github/RenanAbbade/Python-for-Data-Science/blob/master/freq.ipynb\" target=\"_parent\"><img src=\"https://colab.research.google.com/assets/colab-badge.svg\" alt=\"Open In Colab\"/></a>"
      ]
    },
    {
      "cell_type": "code",
      "metadata": {
        "colab": {
          "base_uri": "https://localhost:8080/",
          "height": 751
        },
        "id": "zv8KVHfzMEuI",
        "outputId": "c8563623-76f9-45e4-a3cf-dfa5c2b1f7a8"
      },
      "source": [
        "pip install --upgrade google-api-python-client"
      ],
      "execution_count": null,
      "outputs": [
        {
          "output_type": "stream",
          "text": [
            "Collecting google-api-python-client\n",
            "\u001b[?25l  Downloading https://files.pythonhosted.org/packages/b4/60/a85917214c3bc3b7a396ea4f4b07c988de060b0ab7ceafc2fc55fdf59ee8/google_api_python_client-2.5.0-py2.py3-none-any.whl (7.1MB)\n",
            "\u001b[K     |████████████████████████████████| 7.1MB 6.8MB/s \n",
            "\u001b[?25hRequirement already satisfied, skipping upgrade: google-auth<2dev,>=1.16.0 in /usr/local/lib/python3.7/dist-packages (from google-api-python-client) (1.30.0)\n",
            "Requirement already satisfied, skipping upgrade: httplib2<1dev,>=0.15.0 in /usr/local/lib/python3.7/dist-packages (from google-api-python-client) (0.19.1)\n",
            "Collecting google-auth-httplib2>=0.1.0\n",
            "  Downloading https://files.pythonhosted.org/packages/ba/db/721e2f3f32339080153995d16e46edc3a7657251f167ddcb9327e632783b/google_auth_httplib2-0.1.0-py2.py3-none-any.whl\n",
            "Requirement already satisfied, skipping upgrade: uritemplate<4dev,>=3.0.0 in /usr/local/lib/python3.7/dist-packages (from google-api-python-client) (3.0.1)\n",
            "Requirement already satisfied, skipping upgrade: google-api-core<2dev,>=1.21.0 in /usr/local/lib/python3.7/dist-packages (from google-api-python-client) (1.26.3)\n",
            "Requirement already satisfied, skipping upgrade: six<2dev,>=1.13.0 in /usr/local/lib/python3.7/dist-packages (from google-api-python-client) (1.15.0)\n",
            "Requirement already satisfied, skipping upgrade: pyasn1-modules>=0.2.1 in /usr/local/lib/python3.7/dist-packages (from google-auth<2dev,>=1.16.0->google-api-python-client) (0.2.8)\n",
            "Requirement already satisfied, skipping upgrade: cachetools<5.0,>=2.0.0 in /usr/local/lib/python3.7/dist-packages (from google-auth<2dev,>=1.16.0->google-api-python-client) (4.2.2)\n",
            "Requirement already satisfied, skipping upgrade: rsa<5,>=3.1.4; python_version >= \"3.6\" in /usr/local/lib/python3.7/dist-packages (from google-auth<2dev,>=1.16.0->google-api-python-client) (4.7.2)\n",
            "Requirement already satisfied, skipping upgrade: setuptools>=40.3.0 in /usr/local/lib/python3.7/dist-packages (from google-auth<2dev,>=1.16.0->google-api-python-client) (56.1.0)\n",
            "Requirement already satisfied, skipping upgrade: pyparsing<3,>=2.4.2 in /usr/local/lib/python3.7/dist-packages (from httplib2<1dev,>=0.15.0->google-api-python-client) (2.4.7)\n",
            "Requirement already satisfied, skipping upgrade: packaging>=14.3 in /usr/local/lib/python3.7/dist-packages (from google-api-core<2dev,>=1.21.0->google-api-python-client) (20.9)\n",
            "Requirement already satisfied, skipping upgrade: googleapis-common-protos<2.0dev,>=1.6.0 in /usr/local/lib/python3.7/dist-packages (from google-api-core<2dev,>=1.21.0->google-api-python-client) (1.53.0)\n",
            "Requirement already satisfied, skipping upgrade: requests<3.0.0dev,>=2.18.0 in /usr/local/lib/python3.7/dist-packages (from google-api-core<2dev,>=1.21.0->google-api-python-client) (2.23.0)\n",
            "Requirement already satisfied, skipping upgrade: protobuf>=3.12.0 in /usr/local/lib/python3.7/dist-packages (from google-api-core<2dev,>=1.21.0->google-api-python-client) (3.12.4)\n",
            "Requirement already satisfied, skipping upgrade: pytz in /usr/local/lib/python3.7/dist-packages (from google-api-core<2dev,>=1.21.0->google-api-python-client) (2018.9)\n",
            "Requirement already satisfied, skipping upgrade: pyasn1<0.5.0,>=0.4.6 in /usr/local/lib/python3.7/dist-packages (from pyasn1-modules>=0.2.1->google-auth<2dev,>=1.16.0->google-api-python-client) (0.4.8)\n",
            "Requirement already satisfied, skipping upgrade: idna<3,>=2.5 in /usr/local/lib/python3.7/dist-packages (from requests<3.0.0dev,>=2.18.0->google-api-core<2dev,>=1.21.0->google-api-python-client) (2.10)\n",
            "Requirement already satisfied, skipping upgrade: chardet<4,>=3.0.2 in /usr/local/lib/python3.7/dist-packages (from requests<3.0.0dev,>=2.18.0->google-api-core<2dev,>=1.21.0->google-api-python-client) (3.0.4)\n",
            "Requirement already satisfied, skipping upgrade: certifi>=2017.4.17 in /usr/local/lib/python3.7/dist-packages (from requests<3.0.0dev,>=2.18.0->google-api-core<2dev,>=1.21.0->google-api-python-client) (2020.12.5)\n",
            "Requirement already satisfied, skipping upgrade: urllib3!=1.25.0,!=1.25.1,<1.26,>=1.21.1 in /usr/local/lib/python3.7/dist-packages (from requests<3.0.0dev,>=2.18.0->google-api-core<2dev,>=1.21.0->google-api-python-client) (1.24.3)\n",
            "\u001b[31mERROR: google-drive 0.3.2 has requirement google-api-python-client==1.8.0, but you'll have google-api-python-client 2.5.0 which is incompatible.\u001b[0m\n",
            "\u001b[31mERROR: google-drive 0.3.2 has requirement google-auth-httplib2==0.0.3, but you'll have google-auth-httplib2 0.1.0 which is incompatible.\u001b[0m\n",
            "\u001b[31mERROR: earthengine-api 0.1.266 has requirement google-api-python-client<2,>=1.12.1, but you'll have google-api-python-client 2.5.0 which is incompatible.\u001b[0m\n",
            "\u001b[31mERROR: drive 0.3.1 has requirement google-api-python-client==1.12.8, but you'll have google-api-python-client 2.5.0 which is incompatible.\u001b[0m\n",
            "Installing collected packages: google-auth-httplib2, google-api-python-client\n",
            "  Found existing installation: google-auth-httplib2 0.0.3\n",
            "    Uninstalling google-auth-httplib2-0.0.3:\n",
            "      Successfully uninstalled google-auth-httplib2-0.0.3\n",
            "  Found existing installation: google-api-python-client 1.8.0\n",
            "    Uninstalling google-api-python-client-1.8.0:\n",
            "      Successfully uninstalled google-api-python-client-1.8.0\n",
            "Successfully installed google-api-python-client-2.5.0 google-auth-httplib2-0.1.0\n"
          ],
          "name": "stdout"
        },
        {
          "output_type": "display_data",
          "data": {
            "application/vnd.colab-display-data+json": {
              "pip_warning": {
                "packages": [
                  "apiclient",
                  "google_auth_httplib2",
                  "googleapiclient"
                ]
              }
            }
          },
          "metadata": {
            "tags": []
          }
        }
      ]
    },
    {
      "cell_type": "markdown",
      "metadata": {
        "id": "0g5aCQ7gTo41"
      },
      "source": [
        "**1º passo:** Instalação a biblioteca do google, para realização de consultas de arquivos do google drive"
      ]
    },
    {
      "cell_type": "code",
      "metadata": {
        "id": "f_UpLWgYKZ5T"
      },
      "source": [
        "import re #importa expressões regulares\n",
        "import nltk #lib de processamento de linguagem natural\n",
        "import string\n",
        "from google.colab import drive\n",
        "import seaborn as sns\n",
        "import spacy as sp\n",
        "import math\n",
        "import pandas as pd\n",
        "import matplotlib.pyplot as plt\n",
        "import numpy as np\n",
        "from bs4 import BeautifulSoup\n",
        "import random"
      ],
      "execution_count": 2,
      "outputs": []
    },
    {
      "cell_type": "code",
      "metadata": {
        "id": "s1NXDfarMn_Z",
        "colab": {
          "base_uri": "https://localhost:8080/",
          "height": 35
        },
        "outputId": "460af8dd-0015-4a24-ba34-ac2b66004cf4"
      },
      "source": [
        "%tensorflow_version 2.x\n",
        "import tensorflow as tf\n",
        "tf.__version__"
      ],
      "execution_count": 3,
      "outputs": [
        {
          "output_type": "execute_result",
          "data": {
            "application/vnd.google.colaboratory.intrinsic+json": {
              "type": "string"
            },
            "text/plain": [
              "'2.5.0'"
            ]
          },
          "metadata": {
            "tags": []
          },
          "execution_count": 3
        }
      ]
    },
    {
      "cell_type": "code",
      "metadata": {
        "id": "2MtOxzFKQ5Dm"
      },
      "source": [
        "from tensorflow.keras import layers\n",
        "import tensorflow_datasets as tfds"
      ],
      "execution_count": 4,
      "outputs": []
    },
    {
      "cell_type": "code",
      "metadata": {
        "colab": {
          "base_uri": "https://localhost:8080/"
        },
        "id": "DpJx490wRHox",
        "outputId": "64d3a1b6-b9a8-40bd-d2e8-479fc99de132"
      },
      "source": [
        "drive.mount(\"/content/drive\")"
      ],
      "execution_count": 5,
      "outputs": [
        {
          "output_type": "stream",
          "text": [
            "Drive already mounted at /content/drive; to attempt to forcibly remount, call drive.mount(\"/content/drive\", force_remount=True).\n"
          ],
          "name": "stdout"
        }
      ]
    },
    {
      "cell_type": "markdown",
      "metadata": {
        "id": "SJJ2C242WTzQ"
      },
      "source": [
        "Solicitando permissão do drive para acessar os arquivos.\n"
      ]
    },
    {
      "cell_type": "code",
      "metadata": {
        "id": "77voiwlpSEJ7"
      },
      "source": [
        "cols = ['tweet_id', 'author_id', 'inbound', 'created_at', 'text', 'response_tweet_id','in_response_to_tweet_id']"
      ],
      "execution_count": 6,
      "outputs": []
    },
    {
      "cell_type": "markdown",
      "metadata": {
        "id": "qQx5McynWNou"
      },
      "source": [
        "Registrando as colunas da tabela"
      ]
    },
    {
      "cell_type": "code",
      "metadata": {
        "id": "22v73uvSSLiV"
      },
      "source": [
        "train_data = pd.read_csv('/content/drive/MyDrive/IA/twitterSupport.csv', header = None,\n",
        "                         names = cols, engine = 'python', encoding = 'latin1')"
      ],
      "execution_count": 7,
      "outputs": []
    },
    {
      "cell_type": "code",
      "metadata": {
        "id": "6jOc9hc_WAHz"
      },
      "source": [
        "# Drop first row\n",
        "train_data.drop(index=train_data.index[0], \n",
        "        axis=0, \n",
        "        inplace=True)"
      ],
      "execution_count": 8,
      "outputs": []
    },
    {
      "cell_type": "markdown",
      "metadata": {
        "id": "Xq7pmOVwWGMB"
      },
      "source": [
        "Retirando a primeira linha da tabela, referente aos rótulos que vieram do kraggle"
      ]
    },
    {
      "cell_type": "code",
      "metadata": {
        "colab": {
          "base_uri": "https://localhost:8080/"
        },
        "id": "0zkvbrikTfDk",
        "outputId": "883b863c-4328-466b-a0c4-86dd443f75fc"
      },
      "source": [
        "train_data.shape"
      ],
      "execution_count": 9,
      "outputs": [
        {
          "output_type": "execute_result",
          "data": {
            "text/plain": [
              "(93, 7)"
            ]
          },
          "metadata": {
            "tags": []
          },
          "execution_count": 9
        }
      ]
    },
    {
      "cell_type": "code",
      "metadata": {
        "colab": {
          "base_uri": "https://localhost:8080/",
          "height": 374
        },
        "id": "3y-ji_sGTiPS",
        "outputId": "b002ed03-91ee-4545-eae8-d0c4f7e03c33"
      },
      "source": [
        "train_data.head()"
      ],
      "execution_count": 10,
      "outputs": [
        {
          "output_type": "execute_result",
          "data": {
            "text/html": [
              "<div>\n",
              "<style scoped>\n",
              "    .dataframe tbody tr th:only-of-type {\n",
              "        vertical-align: middle;\n",
              "    }\n",
              "\n",
              "    .dataframe tbody tr th {\n",
              "        vertical-align: top;\n",
              "    }\n",
              "\n",
              "    .dataframe thead th {\n",
              "        text-align: right;\n",
              "    }\n",
              "</style>\n",
              "<table border=\"1\" class=\"dataframe\">\n",
              "  <thead>\n",
              "    <tr style=\"text-align: right;\">\n",
              "      <th></th>\n",
              "      <th>tweet_id</th>\n",
              "      <th>author_id</th>\n",
              "      <th>inbound</th>\n",
              "      <th>created_at</th>\n",
              "      <th>text</th>\n",
              "      <th>response_tweet_id</th>\n",
              "      <th>in_response_to_tweet_id</th>\n",
              "    </tr>\n",
              "  </thead>\n",
              "  <tbody>\n",
              "    <tr>\n",
              "      <th>1</th>\n",
              "      <td>119237</td>\n",
              "      <td>105834</td>\n",
              "      <td>True</td>\n",
              "      <td>Wed Oct 11 06:55:44 +0000 2017</td>\n",
              "      <td>@AppleSupport causing the reply to be disregar...</td>\n",
              "      <td>119236</td>\n",
              "      <td>NaN</td>\n",
              "    </tr>\n",
              "    <tr>\n",
              "      <th>2</th>\n",
              "      <td>119238</td>\n",
              "      <td>ChaseSupport</td>\n",
              "      <td>False</td>\n",
              "      <td>Wed Oct 11 13:25:49 +0000 2017</td>\n",
              "      <td>@105835 Your business means a lot to us. Pleas...</td>\n",
              "      <td>NaN</td>\n",
              "      <td>119239</td>\n",
              "    </tr>\n",
              "    <tr>\n",
              "      <th>3</th>\n",
              "      <td>119239</td>\n",
              "      <td>105835</td>\n",
              "      <td>True</td>\n",
              "      <td>Wed Oct 11 13:00:09 +0000 2017</td>\n",
              "      <td>@76328 I really hope you all change but I'm su...</td>\n",
              "      <td>119238</td>\n",
              "      <td>NaN</td>\n",
              "    </tr>\n",
              "    <tr>\n",
              "      <th>4</th>\n",
              "      <td>119240</td>\n",
              "      <td>VirginTrains</td>\n",
              "      <td>False</td>\n",
              "      <td>Tue Oct 10 15:16:08 +0000 2017</td>\n",
              "      <td>@105836 LiveChat is online at the moment - htt...</td>\n",
              "      <td>119241</td>\n",
              "      <td>119242</td>\n",
              "    </tr>\n",
              "    <tr>\n",
              "      <th>5</th>\n",
              "      <td>119241</td>\n",
              "      <td>105836</td>\n",
              "      <td>True</td>\n",
              "      <td>Tue Oct 10 15:17:21 +0000 2017</td>\n",
              "      <td>@VirginTrains see attached error message. I've...</td>\n",
              "      <td>119243</td>\n",
              "      <td>119240</td>\n",
              "    </tr>\n",
              "  </tbody>\n",
              "</table>\n",
              "</div>"
            ],
            "text/plain": [
              "  tweet_id     author_id  ... response_tweet_id in_response_to_tweet_id\n",
              "1   119237        105834  ...            119236                     NaN\n",
              "2   119238  ChaseSupport  ...               NaN                  119239\n",
              "3   119239        105835  ...            119238                     NaN\n",
              "4   119240  VirginTrains  ...            119241                  119242\n",
              "5   119241        105836  ...            119243                  119240\n",
              "\n",
              "[5 rows x 7 columns]"
            ]
          },
          "metadata": {
            "tags": []
          },
          "execution_count": 10
        }
      ]
    },
    {
      "cell_type": "code",
      "metadata": {
        "colab": {
          "base_uri": "https://localhost:8080/",
          "height": 374
        },
        "id": "aX3Ug-0WT8M6",
        "outputId": "32b52db2-f133-4cec-c7da-6efc3b8eaf21"
      },
      "source": [
        "train_data.tail()"
      ],
      "execution_count": 11,
      "outputs": [
        {
          "output_type": "execute_result",
          "data": {
            "text/html": [
              "<div>\n",
              "<style scoped>\n",
              "    .dataframe tbody tr th:only-of-type {\n",
              "        vertical-align: middle;\n",
              "    }\n",
              "\n",
              "    .dataframe tbody tr th {\n",
              "        vertical-align: top;\n",
              "    }\n",
              "\n",
              "    .dataframe thead th {\n",
              "        text-align: right;\n",
              "    }\n",
              "</style>\n",
              "<table border=\"1\" class=\"dataframe\">\n",
              "  <thead>\n",
              "    <tr style=\"text-align: right;\">\n",
              "      <th></th>\n",
              "      <th>tweet_id</th>\n",
              "      <th>author_id</th>\n",
              "      <th>inbound</th>\n",
              "      <th>created_at</th>\n",
              "      <th>text</th>\n",
              "      <th>response_tweet_id</th>\n",
              "      <th>in_response_to_tweet_id</th>\n",
              "    </tr>\n",
              "  </thead>\n",
              "  <tbody>\n",
              "    <tr>\n",
              "      <th>89</th>\n",
              "      <td>119330</td>\n",
              "      <td>105859</td>\n",
              "      <td>True</td>\n",
              "      <td>Wed Oct 11 13:50:42 +0000 2017</td>\n",
              "      <td>@105860 I wish Amazon had an option of where I...</td>\n",
              "      <td>119329</td>\n",
              "      <td>119331</td>\n",
              "    </tr>\n",
              "    <tr>\n",
              "      <th>90</th>\n",
              "      <td>119331</td>\n",
              "      <td>105860</td>\n",
              "      <td>True</td>\n",
              "      <td>Wed Oct 11 13:47:14 +0000 2017</td>\n",
              "      <td>They reschedule my shit for tomorrow https://t...</td>\n",
              "      <td>119330</td>\n",
              "      <td>NaN</td>\n",
              "    </tr>\n",
              "    <tr>\n",
              "      <th>91</th>\n",
              "      <td>119332</td>\n",
              "      <td>Tesco</td>\n",
              "      <td>False</td>\n",
              "      <td>Wed Oct 11 13:34:06 +0000 2017</td>\n",
              "      <td>@105861 Hey Sara, sorry to hear of the issues ...</td>\n",
              "      <td>119333</td>\n",
              "      <td>119334</td>\n",
              "    </tr>\n",
              "    <tr>\n",
              "      <th>92</th>\n",
              "      <td>119333</td>\n",
              "      <td>105861</td>\n",
              "      <td>True</td>\n",
              "      <td>Wed Oct 11 14:05:18 +0000 2017</td>\n",
              "      <td>@Tesco bit of both - finding the layout cumber...</td>\n",
              "      <td>119335,119336</td>\n",
              "      <td>119332</td>\n",
              "    </tr>\n",
              "    <tr>\n",
              "      <th>93</th>\n",
              "      <td>119335</td>\n",
              "      <td>Tesco</td>\n",
              "      <td>False</td>\n",
              "      <td>Wed Oct 11 15:38:07 +0000 2017</td>\n",
              "      <td>@105861 If that doesn't help please DM your fu...</td>\n",
              "      <td>NaN</td>\n",
              "      <td>119333</td>\n",
              "    </tr>\n",
              "  </tbody>\n",
              "</table>\n",
              "</div>"
            ],
            "text/plain": [
              "   tweet_id author_id  ... response_tweet_id in_response_to_tweet_id\n",
              "89   119330    105859  ...            119329                  119331\n",
              "90   119331    105860  ...            119330                     NaN\n",
              "91   119332     Tesco  ...            119333                  119334\n",
              "92   119333    105861  ...     119335,119336                  119332\n",
              "93   119335     Tesco  ...               NaN                  119333\n",
              "\n",
              "[5 rows x 7 columns]"
            ]
          },
          "metadata": {
            "tags": []
          },
          "execution_count": 11
        }
      ]
    },
    {
      "cell_type": "markdown",
      "metadata": {
        "id": "KQSoDqEmWoFa"
      },
      "source": [
        "Analisando os tipos de batalha que houveram na série, e fazendo a contagem dos mesmos."
      ]
    },
    {
      "cell_type": "markdown",
      "metadata": {
        "id": "RrulE9w3W7Py"
      },
      "source": [
        "**Limpeza da base de dados**: O objetivo deste passo e retirar todos os campos da base de dados que não serão utilizados pela aplicação."
      ]
    },
    {
      "cell_type": "code",
      "metadata": {
        "id": "ATA8jQpeW_Zo"
      },
      "source": [
        "data = train_data"
      ],
      "execution_count": 12,
      "outputs": []
    },
    {
      "cell_type": "code",
      "metadata": {
        "id": "-w1B734wXNYi"
      },
      "source": [
        "data.drop(['tweet_id', 'author_id', 'created_at', 'response_tweet_id','in_response_to_tweet_id'], axis = 1, inplace=True)"
      ],
      "execution_count": 13,
      "outputs": []
    },
    {
      "cell_type": "code",
      "metadata": {
        "colab": {
          "base_uri": "https://localhost:8080/",
          "height": 204
        },
        "id": "58je7wnCYIAI",
        "outputId": "4c588fc7-52ab-4600-8751-152a867ef144"
      },
      "source": [
        "data.head()"
      ],
      "execution_count": 14,
      "outputs": [
        {
          "output_type": "execute_result",
          "data": {
            "text/html": [
              "<div>\n",
              "<style scoped>\n",
              "    .dataframe tbody tr th:only-of-type {\n",
              "        vertical-align: middle;\n",
              "    }\n",
              "\n",
              "    .dataframe tbody tr th {\n",
              "        vertical-align: top;\n",
              "    }\n",
              "\n",
              "    .dataframe thead th {\n",
              "        text-align: right;\n",
              "    }\n",
              "</style>\n",
              "<table border=\"1\" class=\"dataframe\">\n",
              "  <thead>\n",
              "    <tr style=\"text-align: right;\">\n",
              "      <th></th>\n",
              "      <th>inbound</th>\n",
              "      <th>text</th>\n",
              "    </tr>\n",
              "  </thead>\n",
              "  <tbody>\n",
              "    <tr>\n",
              "      <th>1</th>\n",
              "      <td>True</td>\n",
              "      <td>@AppleSupport causing the reply to be disregar...</td>\n",
              "    </tr>\n",
              "    <tr>\n",
              "      <th>2</th>\n",
              "      <td>False</td>\n",
              "      <td>@105835 Your business means a lot to us. Pleas...</td>\n",
              "    </tr>\n",
              "    <tr>\n",
              "      <th>3</th>\n",
              "      <td>True</td>\n",
              "      <td>@76328 I really hope you all change but I'm su...</td>\n",
              "    </tr>\n",
              "    <tr>\n",
              "      <th>4</th>\n",
              "      <td>False</td>\n",
              "      <td>@105836 LiveChat is online at the moment - htt...</td>\n",
              "    </tr>\n",
              "    <tr>\n",
              "      <th>5</th>\n",
              "      <td>True</td>\n",
              "      <td>@VirginTrains see attached error message. I've...</td>\n",
              "    </tr>\n",
              "  </tbody>\n",
              "</table>\n",
              "</div>"
            ],
            "text/plain": [
              "  inbound                                               text\n",
              "1    True  @AppleSupport causing the reply to be disregar...\n",
              "2   False  @105835 Your business means a lot to us. Pleas...\n",
              "3    True  @76328 I really hope you all change but I'm su...\n",
              "4   False  @105836 LiveChat is online at the moment - htt...\n",
              "5    True  @VirginTrains see attached error message. I've..."
            ]
          },
          "metadata": {
            "tags": []
          },
          "execution_count": 14
        }
      ]
    },
    {
      "cell_type": "markdown",
      "metadata": {
        "id": "n2otIVYUcQ_v"
      },
      "source": [
        "Crindo uma variável para armazenar somente os textos."
      ]
    },
    {
      "cell_type": "code",
      "metadata": {
        "id": "Xd4iBAGgcQSd"
      },
      "source": [
        "X = data.iloc[:,1].values"
      ],
      "execution_count": 20,
      "outputs": []
    },
    {
      "cell_type": "code",
      "metadata": {
        "colab": {
          "base_uri": "https://localhost:8080/"
        },
        "id": "nDuT7NTmcgU2",
        "outputId": "174311f1-ba87-49ee-f52b-5fa9d425fe76"
      },
      "source": [
        "X.shape"
      ],
      "execution_count": 72,
      "outputs": [
        {
          "output_type": "execute_result",
          "data": {
            "text/plain": [
              "(93,)"
            ]
          },
          "metadata": {
            "tags": []
          },
          "execution_count": 72
        }
      ]
    },
    {
      "cell_type": "code",
      "metadata": {
        "colab": {
          "base_uri": "https://localhost:8080/"
        },
        "id": "Nh7TArivck8p",
        "outputId": "b793f4d6-6120-452d-c2bb-c4284b91fb4f"
      },
      "source": [
        "type(X)"
      ],
      "execution_count": 73,
      "outputs": [
        {
          "output_type": "execute_result",
          "data": {
            "text/plain": [
              "numpy.ndarray"
            ]
          },
          "metadata": {
            "tags": []
          },
          "execution_count": 73
        }
      ]
    },
    {
      "cell_type": "code",
      "metadata": {
        "id": "gBfZzOnpc1Jw"
      },
      "source": [
        "from sklearn.model_selection import train_test_split"
      ],
      "execution_count": 16,
      "outputs": []
    },
    {
      "cell_type": "markdown",
      "metadata": {
        "id": "_S9wPtS8ehJ-"
      },
      "source": [
        "**Limpando os tweets**: Excluindo todos os caracteres que não sejam referentes aos textos dos tweets por meio de expressões regulares."
      ]
    },
    {
      "cell_type": "code",
      "metadata": {
        "id": "TP_h42FBd4zm"
      },
      "source": [
        "def clean_tweets(tweet):\n",
        "  tweet = BeautifulSoup(tweet, 'lxml').get_text()\n",
        "  tweet = re.sub(r\"@[A-Za-z0-9]+\", ' ', tweet) #Excluindo nome dos usuários\n",
        "  tweet = re.sub(r\"https?://[A-Za-z0-9./]+\", ' ', tweet)#Retirando as URL's\n",
        "  tweet = re.sub(r\"[^a-zA-Z.!?]\", ' ', tweet)#Retirando os números\n",
        "  tweet = re.sub(r\" +\", ' ', tweet)#Apagar os espaços na String\n",
        "  return tweet.strip()\n"
      ],
      "execution_count": 17,
      "outputs": []
    },
    {
      "cell_type": "code",
      "metadata": {
        "id": "Q6bpAcaweZX4"
      },
      "source": [
        "text = \"@switchfoot http://twitpic.com/2y1zl - Awww, that's a bummer.  2 You shoulda got David Carr of Third Day to do it. ;D\""
      ],
      "execution_count": 18,
      "outputs": []
    },
    {
      "cell_type": "code",
      "metadata": {
        "colab": {
          "base_uri": "https://localhost:8080/",
          "height": 35
        },
        "id": "dHfNSbZ3eeUq",
        "outputId": "6671f8d0-bc94-4960-9f94-a3dc0158da7a"
      },
      "source": [
        "text = clean_tweets(text)\n",
        "text"
      ],
      "execution_count": 21,
      "outputs": [
        {
          "output_type": "execute_result",
          "data": {
            "application/vnd.google.colaboratory.intrinsic+json": {
              "type": "string"
            },
            "text/plain": [
              "'Awww that s a bummer. You shoulda got David Carr of Third Day to do it. D'"
            ]
          },
          "metadata": {
            "tags": []
          },
          "execution_count": 21
        }
      ]
    },
    {
      "cell_type": "markdown",
      "metadata": {
        "id": "HOMB9CtjgjZc"
      },
      "source": [
        "**Remoção das stopwords**: Exclusão das palavras que não atribuem um significado real ao texto."
      ]
    },
    {
      "cell_type": "code",
      "metadata": {
        "colab": {
          "base_uri": "https://localhost:8080/"
        },
        "id": "AtOF51cAgqK9",
        "outputId": "7d98a813-f728-48ee-f903-3e826ed22865"
      },
      "source": [
        "nlp = sp.load('en') #importação para a lib space, na lingua inglesa\n",
        "nlp"
      ],
      "execution_count": 22,
      "outputs": [
        {
          "output_type": "execute_result",
          "data": {
            "text/plain": [
              "<spacy.lang.en.English at 0x7f189f74fc90>"
            ]
          },
          "metadata": {
            "tags": []
          },
          "execution_count": 22
        }
      ]
    },
    {
      "cell_type": "code",
      "metadata": {
        "id": "HkTTP0IShDp8"
      },
      "source": [
        "stop_words = sp.lang.en.STOP_WORDS #Recebendo as stopwords inglesas"
      ],
      "execution_count": 23,
      "outputs": []
    },
    {
      "cell_type": "markdown",
      "metadata": {
        "id": "1deGLyK7h9Te"
      },
      "source": [
        "**Tokenização**"
      ]
    },
    {
      "cell_type": "code",
      "metadata": {
        "id": "AdeNwQ38hP4F"
      },
      "source": [
        "def clean_tweets2(tweet):\n",
        "  tweet = tweet.lower() #Conversão necessária para processamento da lib Space\n",
        "  document = nlp (tweet)\n",
        "\n",
        "  words = []\n",
        "  wordsForFreq = ''\n",
        "  for token in document:\n",
        "    if(token.text not in stop_words and token.text not in string.punctuation and len(token.text) > 3):\n",
        "      words.append(token.text)\n",
        "      #words = ' '.join(token.text)\n",
        "      wordsForFreq  = ' '.join([str(element) for element in words])\n",
        "  \n",
        "  #Incluir palavras na lista desde que não sejam similares a lista previamente criada de stopwords e que não sejam pontuações.\n",
        "  #words = [word for word in words if word not in stop_words and word not in string.punctuation and len(word) > 3]\n",
        "  #Retornando como String\n",
        "  #words = ' '.join([str(element) for element in words])\n",
        "  return wordsForFreq"
      ],
      "execution_count": 24,
      "outputs": []
    },
    {
      "cell_type": "code",
      "metadata": {
        "colab": {
          "base_uri": "https://localhost:8080/",
          "height": 35
        },
        "id": "lHtFashOhw-t",
        "outputId": "0cdb48e2-1b50-4847-95aa-79c596d7d9b5"
      },
      "source": [
        "text2 = clean_tweets2(text)\n",
        "text2"
      ],
      "execution_count": 25,
      "outputs": [
        {
          "output_type": "execute_result",
          "data": {
            "application/vnd.google.colaboratory.intrinsic+json": {
              "type": "string"
            },
            "text/plain": [
              "'awww bummer shoulda david carr'"
            ]
          },
          "metadata": {
            "tags": []
          },
          "execution_count": 25
        }
      ]
    },
    {
      "cell_type": "markdown",
      "metadata": {
        "id": "1Eh4NPIqjLtl"
      },
      "source": [
        "**Aplicação das funções de limpeza criadas na base de dados**"
      ]
    },
    {
      "cell_type": "code",
      "metadata": {
        "colab": {
          "base_uri": "https://localhost:8080/"
        },
        "id": "xdiuNG7-jPr9",
        "outputId": "334f319e-bb20-4dab-de3a-fd6cd33e0bd3"
      },
      "source": [
        "text = []\n",
        "for tweet in X:\n",
        "    text.append(clean_tweets2(clean_tweets(tweet)))\n",
        "text"
      ],
      "execution_count": 40,
      "outputs": [
        {
          "output_type": "execute_result",
          "data": {
            "text/plain": [
              "['causing reply disregarded tapped notification keyboard opened',\n",
              " 'business means code additional details concern',\n",
              " 'hope change sure',\n",
              " 'livechat online moment contact option leave message request',\n",
              " 'attached error message tried leaving voicemail times past week',\n",
              " 'tried device miriam',\n",
              " 'tried laptop times past week today tried different browsers',\n",
              " 'working miriam link help',\n",
              " 'haven heard number directed phone dead live chat doesn work',\n",
              " 'miriam team send email shortly',\n",
              " 'help version find settings general reply',\n",
              " 'suffering hope find solution',\n",
              " 'apple concern latest slow iphone happy solution',\n",
              " 'thanks reaching happy help send look',\n",
              " 'updated phone suddenly takes ages load update hate',\n",
              " 'device happening know android spotify versions great',\n",
              " 'thanks version armv anker bluetooth speaker samsung galaxy model distance speaker matter',\n",
              " 'thanks distance possibly affect playback logging restarting device logging difference',\n",
              " 'moved speaker metre away skipping metres away fingers crossed',\n",
              " 'great hear comes know carry helping',\n",
              " 'brilliant thanks',\n",
              " 'welcome help shout',\n",
              " 'help spotify premium skipping songs constantly android tablet bluetooth speaker tried',\n",
              " 'love help know steps tried experiencing behaviors',\n",
              " 'phone sucks apps broken wifi disconnects frequently apple painfulupdate',\n",
              " 'sorry flight delayed beatner travelling updated departure time',\n",
              " 'flight long time airways delay short jump provide status updates',\n",
              " 'battery life important version iphone running',\n",
              " 'okay fucking phone minutes drains fucking percent',\n",
              " 'thanks reaching happy help send look',\n",
              " 'iphone plus battery runs half time apps frequently crash',\n",
              " 'happy help send start',\n",
              " 'paralysed phone update grrrrrrrrrr',\n",
              " 'like help number calling info advise',\n",
              " 'received weeks getting calls telemarketer',\n",
              " 'understand frustrating experience send account information look matter',\n",
              " 'internet xfinity talkin hours game messed',\n",
              " 'understand frustrated situation follow sending assistance sprint cares',\n",
              " 'service sprint refund',\n",
              " 'like help happens listen apple music whatsapp music pause know',\n",
              " 'update listen music whatsapp time',\n",
              " 'harry help check logging restarting device logging makes difference posted',\n",
              " 'working stage know happens cheers',\n",
              " 'sure thing update',\n",
              " 'problem come today kind',\n",
              " 'thanks giving nudge device operating system spotify version happening',\n",
              " 'macbook early running high sierra spotify version .gac',\n",
              " 'steps help know plays',\n",
              " 'having issues playback songs stopping midway restart close reopen',\n",
              " 'look exact specific apps noticing reply',\n",
              " 'latest version read help page turned virtually apps location typing dropped life',\n",
              " 'super help problem solved love apple',\n",
              " 'update killing battery hours phone months disgrace days',\n",
              " 'thanks reaching happy help send look',\n",
              " 'took phone charge battery remaining sort battery life',\n",
              " 'points load number immediately receive congrats email',\n",
              " 'thank answer',\n",
              " 'curious .... companion pass exact moment points wait thanks',\n",
              " 'like provide assistance tell issue experiencing',\n",
              " 'need code store haven recd sent help',\n",
              " 'experiencing issue device going help',\n",
              " 'update horrible',\n",
              " 'appreciate hopefully depart soon sorry inconvenience delay caused',\n",
              " 'airways thanks answer response onsite aircraft depart today rebooking delay',\n",
              " 'sorry hear hope sorted kind regards jools',\n",
              " 'sorry poor experience service address account',\n",
              " 'spectrum yard called times weeks customer pretty tempting coaxial',\n",
              " 'guess means free cable neighborhood',\n",
              " 'thomas colleague believes person buying alcohol looks challenged prove paige',\n",
              " 'maybe hire colleagues',\n",
              " 'point enforced properly plus common sense think person look',\n",
              " 'thomas correct helps store colleagues judge protect making underage sales amanda',\n",
              " 'offlicense',\n",
              " 'thomas operate think policy stores flattered helena',\n",
              " 'buying adnams broadside blind spec kilos',\n",
              " 'deleting cache cookies reinstalling issue dani',\n",
              " 'lose shopping delete cache cookies',\n",
              " 'long sign account prior deleting cache cookies basket thanks mike',\n",
              " 'telling delivery slots whatsoever',\n",
              " 'address email happy look thanks mike',\n",
              " 'website broken telling delivery slots weeks find slightly unlikely',\n",
              " 'particular cause issues model iphone join',\n",
              " 'latest version started immediately updated phone',\n",
              " 'like help start happening version running currently',\n",
              " 'apps stop working warning phone freezes minutes love update',\n",
              " 'agoura thanks tweeting refer article click link reply rashmi',\n",
              " 'problem printhead serial hpcswus hpprnt',\n",
              " 'service called choice allow packages delivered store',\n",
              " 'wish amazon option shipped store avoid struggle',\n",
              " 'reschedule shit tomorrow',\n",
              " 'sara sorry hear issues having speed website responding chris',\n",
              " 'finding layout cumbersome removing item faves getting huge slowdown keen thin green line',\n",
              " 'doesn help address email including browser device thanks']"
            ]
          },
          "metadata": {
            "tags": []
          },
          "execution_count": 40
        }
      ]
    },
    {
      "cell_type": "code",
      "metadata": {
        "colab": {
          "base_uri": "https://localhost:8080/"
        },
        "id": "0X9k8O4kvl67",
        "outputId": "dca0d944-6a54-42f8-b103-784fa2b4816d"
      },
      "source": [
        "from nltk.tokenize import word_tokenize\n",
        "from nltk.tokenize import sent_tokenize\n",
        "nltk.download('punkt')"
      ],
      "execution_count": 41,
      "outputs": [
        {
          "output_type": "stream",
          "text": [
            "[nltk_data] Downloading package punkt to /root/nltk_data...\n",
            "[nltk_data]   Package punkt is already up-to-date!\n"
          ],
          "name": "stdout"
        },
        {
          "output_type": "execute_result",
          "data": {
            "text/plain": [
              "True"
            ]
          },
          "metadata": {
            "tags": []
          },
          "execution_count": 41
        }
      ]
    },
    {
      "cell_type": "code",
      "metadata": {
        "colab": {
          "base_uri": "https://localhost:8080/",
          "height": 188
        },
        "id": "nELfc262wNwj",
        "outputId": "a2ecfabf-e0c1-42b5-d736-a2c6e4a64bc4"
      },
      "source": [
        "\"\"\"\n",
        "Desc: \n",
        " Function to convert List of strings to a string with a separator\n",
        "\"\"\"\n",
        "def converttostr(text, separator):\n",
        "   # Join all the strings in list\n",
        "   final_str = seperator.join(text)\n",
        "   return final_str\n",
        "\n",
        "\n",
        "\n",
        "# List of month names separated with a space\n",
        "seperator = ' '\n",
        "newText =  converttostr(text, seperator)\n",
        "newText"
      ],
      "execution_count": 43,
      "outputs": [
        {
          "output_type": "execute_result",
          "data": {
            "application/vnd.google.colaboratory.intrinsic+json": {
              "type": "string"
            },
            "text/plain": [
              "'causing reply disregarded tapped notification keyboard opened business means code additional details concern hope change sure livechat online moment contact option leave message request attached error message tried leaving voicemail times past week tried device miriam tried laptop times past week today tried different browsers working miriam link help haven heard number directed phone dead live chat doesn work miriam team send email shortly help version find settings general reply suffering hope find solution apple concern latest slow iphone happy solution thanks reaching happy help send look updated phone suddenly takes ages load update hate device happening know android spotify versions great thanks version armv anker bluetooth speaker samsung galaxy model distance speaker matter thanks distance possibly affect playback logging restarting device logging difference moved speaker metre away skipping metres away fingers crossed great hear comes know carry helping brilliant thanks welcome help shout help spotify premium skipping songs constantly android tablet bluetooth speaker tried love help know steps tried experiencing behaviors phone sucks apps broken wifi disconnects frequently apple painfulupdate sorry flight delayed beatner travelling updated departure time flight long time airways delay short jump provide status updates battery life important version iphone running okay fucking phone minutes drains fucking percent thanks reaching happy help send look iphone plus battery runs half time apps frequently crash happy help send start paralysed phone update grrrrrrrrrr like help number calling info advise received weeks getting calls telemarketer understand frustrating experience send account information look matter internet xfinity talkin hours game messed understand frustrated situation follow sending assistance sprint cares service sprint refund like help happens listen apple music whatsapp music pause know update listen music whatsapp time harry help check logging restarting device logging makes difference posted working stage know happens cheers sure thing update problem come today kind thanks giving nudge device operating system spotify version happening macbook early running high sierra spotify version .gac steps help know plays having issues playback songs stopping midway restart close reopen look exact specific apps noticing reply latest version read help page turned virtually apps location typing dropped life super help problem solved love apple update killing battery hours phone months disgrace days thanks reaching happy help send look took phone charge battery remaining sort battery life points load number immediately receive congrats email thank answer curious .... companion pass exact moment points wait thanks like provide assistance tell issue experiencing need code store haven recd sent help experiencing issue device going help update horrible appreciate hopefully depart soon sorry inconvenience delay caused airways thanks answer response onsite aircraft depart today rebooking delay sorry hear hope sorted kind regards jools sorry poor experience service address account spectrum yard called times weeks customer pretty tempting coaxial guess means free cable neighborhood thomas colleague believes person buying alcohol looks challenged prove paige maybe hire colleagues point enforced properly plus common sense think person look thomas correct helps store colleagues judge protect making underage sales amanda offlicense thomas operate think policy stores flattered helena buying adnams broadside blind spec kilos deleting cache cookies reinstalling issue dani lose shopping delete cache cookies long sign account prior deleting cache cookies basket thanks mike telling delivery slots whatsoever address email happy look thanks mike website broken telling delivery slots weeks find slightly unlikely particular cause issues model iphone join latest version started immediately updated phone like help start happening version running currently apps stop working warning phone freezes minutes love update agoura thanks tweeting refer article click link reply rashmi problem printhead serial hpcswus hpprnt service called choice allow packages delivered store wish amazon option shipped store avoid struggle reschedule shit tomorrow sara sorry hear issues having speed website responding chris finding layout cumbersome removing item faves getting huge slowdown keen thin green line doesn help address email including browser device thanks'"
            ]
          },
          "metadata": {
            "tags": []
          },
          "execution_count": 43
        }
      ]
    },
    {
      "cell_type": "code",
      "metadata": {
        "colab": {
          "base_uri": "https://localhost:8080/"
        },
        "id": "lgQR72TUtl13",
        "outputId": "f9500e23-5392-4b33-8469-b56664f218a1"
      },
      "source": [
        "from nltk.tokenize import word_tokenize\n",
        "from nltk.tokenize import sent_tokenize\n",
        "nltk.download('punkt')"
      ],
      "execution_count": 44,
      "outputs": [
        {
          "output_type": "stream",
          "text": [
            "[nltk_data] Downloading package punkt to /root/nltk_data...\n",
            "[nltk_data]   Package punkt is already up-to-date!\n"
          ],
          "name": "stdout"
        },
        {
          "output_type": "execute_result",
          "data": {
            "text/plain": [
              "True"
            ]
          },
          "metadata": {
            "tags": []
          },
          "execution_count": 44
        }
      ]
    },
    {
      "cell_type": "code",
      "metadata": {
        "id": "SDc08gg4tgv7"
      },
      "source": [
        "sentencas = sent_tokenize(newText)  # Separa em linhas\n",
        "palavras = word_tokenize(newText.lower())  # Separa em palavras"
      ],
      "execution_count": 55,
      "outputs": []
    },
    {
      "cell_type": "code",
      "metadata": {
        "id": "0U9UYsZimPwj"
      },
      "source": [
        "from nltk.probability import FreqDist"
      ],
      "execution_count": 46,
      "outputs": []
    },
    {
      "cell_type": "code",
      "metadata": {
        "colab": {
          "base_uri": "https://localhost:8080/"
        },
        "id": "xXSsx_56oMIF",
        "outputId": "eec95c2e-249b-40e0-d4b8-8efcf5bc96ee"
      },
      "source": [
        "frequencia = FreqDist(palavras)\n",
        "frequencia"
      ],
      "execution_count": 47,
      "outputs": [
        {
          "output_type": "execute_result",
          "data": {
            "text/plain": [
              "FreqDist({'.': 1,\n",
              "          '...': 1,\n",
              "          '.gac': 1,\n",
              "          'account': 3,\n",
              "          'additional': 1,\n",
              "          'address': 3,\n",
              "          'adnams': 1,\n",
              "          'advise': 1,\n",
              "          'affect': 1,\n",
              "          'ages': 1,\n",
              "          'agoura': 1,\n",
              "          'aircraft': 1,\n",
              "          'airways': 2,\n",
              "          'alcohol': 1,\n",
              "          'allow': 1,\n",
              "          'amanda': 1,\n",
              "          'amazon': 1,\n",
              "          'android': 2,\n",
              "          'anker': 1,\n",
              "          'answer': 2,\n",
              "          'apple': 4,\n",
              "          'appreciate': 1,\n",
              "          'apps': 5,\n",
              "          'armv': 1,\n",
              "          'article': 1,\n",
              "          'assistance': 2,\n",
              "          'attached': 1,\n",
              "          'avoid': 1,\n",
              "          'away': 2,\n",
              "          'basket': 1,\n",
              "          'battery': 5,\n",
              "          'beatner': 1,\n",
              "          'behaviors': 1,\n",
              "          'believes': 1,\n",
              "          'blind': 1,\n",
              "          'bluetooth': 2,\n",
              "          'brilliant': 1,\n",
              "          'broadside': 1,\n",
              "          'broken': 2,\n",
              "          'browser': 1,\n",
              "          'browsers': 1,\n",
              "          'business': 1,\n",
              "          'buying': 2,\n",
              "          'cable': 1,\n",
              "          'cache': 3,\n",
              "          'called': 2,\n",
              "          'calling': 1,\n",
              "          'calls': 1,\n",
              "          'cares': 1,\n",
              "          'carry': 1,\n",
              "          'cause': 1,\n",
              "          'caused': 1,\n",
              "          'causing': 1,\n",
              "          'challenged': 1,\n",
              "          'change': 1,\n",
              "          'charge': 1,\n",
              "          'chat': 1,\n",
              "          'check': 1,\n",
              "          'cheers': 1,\n",
              "          'choice': 1,\n",
              "          'chris': 1,\n",
              "          'click': 1,\n",
              "          'close': 1,\n",
              "          'coaxial': 1,\n",
              "          'code': 2,\n",
              "          'colleague': 1,\n",
              "          'colleagues': 2,\n",
              "          'come': 1,\n",
              "          'comes': 1,\n",
              "          'common': 1,\n",
              "          'companion': 1,\n",
              "          'concern': 2,\n",
              "          'congrats': 1,\n",
              "          'constantly': 1,\n",
              "          'contact': 1,\n",
              "          'cookies': 3,\n",
              "          'correct': 1,\n",
              "          'crash': 1,\n",
              "          'crossed': 1,\n",
              "          'cumbersome': 1,\n",
              "          'curious': 1,\n",
              "          'currently': 1,\n",
              "          'customer': 1,\n",
              "          'dani': 1,\n",
              "          'days': 1,\n",
              "          'dead': 1,\n",
              "          'delay': 3,\n",
              "          'delayed': 1,\n",
              "          'delete': 1,\n",
              "          'deleting': 2,\n",
              "          'delivered': 1,\n",
              "          'delivery': 2,\n",
              "          'depart': 2,\n",
              "          'departure': 1,\n",
              "          'details': 1,\n",
              "          'device': 7,\n",
              "          'difference': 2,\n",
              "          'different': 1,\n",
              "          'directed': 1,\n",
              "          'disconnects': 1,\n",
              "          'disgrace': 1,\n",
              "          'disregarded': 1,\n",
              "          'distance': 2,\n",
              "          'doesn': 2,\n",
              "          'drains': 1,\n",
              "          'dropped': 1,\n",
              "          'early': 1,\n",
              "          'email': 4,\n",
              "          'enforced': 1,\n",
              "          'error': 1,\n",
              "          'exact': 2,\n",
              "          'experience': 2,\n",
              "          'experiencing': 3,\n",
              "          'faves': 1,\n",
              "          'find': 3,\n",
              "          'finding': 1,\n",
              "          'fingers': 1,\n",
              "          'flattered': 1,\n",
              "          'flight': 2,\n",
              "          'follow': 1,\n",
              "          'free': 1,\n",
              "          'freezes': 1,\n",
              "          'frequently': 2,\n",
              "          'frustrated': 1,\n",
              "          'frustrating': 1,\n",
              "          'fucking': 2,\n",
              "          'galaxy': 1,\n",
              "          'game': 1,\n",
              "          'general': 1,\n",
              "          'getting': 2,\n",
              "          'giving': 1,\n",
              "          'going': 1,\n",
              "          'great': 2,\n",
              "          'green': 1,\n",
              "          'grrrrrrrrrr': 1,\n",
              "          'guess': 1,\n",
              "          'half': 1,\n",
              "          'happening': 3,\n",
              "          'happens': 2,\n",
              "          'happy': 6,\n",
              "          'harry': 1,\n",
              "          'hate': 1,\n",
              "          'haven': 2,\n",
              "          'having': 2,\n",
              "          'hear': 3,\n",
              "          'heard': 1,\n",
              "          'helena': 1,\n",
              "          'help': 19,\n",
              "          'helping': 1,\n",
              "          'helps': 1,\n",
              "          'high': 1,\n",
              "          'hire': 1,\n",
              "          'hope': 3,\n",
              "          'hopefully': 1,\n",
              "          'horrible': 1,\n",
              "          'hours': 2,\n",
              "          'hpcswus': 1,\n",
              "          'hpprnt': 1,\n",
              "          'huge': 1,\n",
              "          'immediately': 2,\n",
              "          'important': 1,\n",
              "          'including': 1,\n",
              "          'inconvenience': 1,\n",
              "          'info': 1,\n",
              "          'information': 1,\n",
              "          'internet': 1,\n",
              "          'iphone': 4,\n",
              "          'issue': 3,\n",
              "          'issues': 3,\n",
              "          'item': 1,\n",
              "          'join': 1,\n",
              "          'jools': 1,\n",
              "          'judge': 1,\n",
              "          'jump': 1,\n",
              "          'keen': 1,\n",
              "          'keyboard': 1,\n",
              "          'killing': 1,\n",
              "          'kilos': 1,\n",
              "          'kind': 2,\n",
              "          'know': 6,\n",
              "          'laptop': 1,\n",
              "          'latest': 3,\n",
              "          'layout': 1,\n",
              "          'leave': 1,\n",
              "          'leaving': 1,\n",
              "          'life': 3,\n",
              "          'like': 4,\n",
              "          'line': 1,\n",
              "          'link': 2,\n",
              "          'listen': 2,\n",
              "          'live': 1,\n",
              "          'livechat': 1,\n",
              "          'load': 2,\n",
              "          'location': 1,\n",
              "          'logging': 4,\n",
              "          'long': 2,\n",
              "          'look': 7,\n",
              "          'looks': 1,\n",
              "          'lose': 1,\n",
              "          'love': 3,\n",
              "          'macbook': 1,\n",
              "          'makes': 1,\n",
              "          'making': 1,\n",
              "          'matter': 2,\n",
              "          'maybe': 1,\n",
              "          'means': 2,\n",
              "          'message': 2,\n",
              "          'messed': 1,\n",
              "          'metre': 1,\n",
              "          'metres': 1,\n",
              "          'midway': 1,\n",
              "          'mike': 2,\n",
              "          'minutes': 2,\n",
              "          'miriam': 3,\n",
              "          'model': 2,\n",
              "          'moment': 2,\n",
              "          'months': 1,\n",
              "          'moved': 1,\n",
              "          'music': 3,\n",
              "          'need': 1,\n",
              "          'neighborhood': 1,\n",
              "          'noticing': 1,\n",
              "          'notification': 1,\n",
              "          'nudge': 1,\n",
              "          'number': 3,\n",
              "          'offlicense': 1,\n",
              "          'okay': 1,\n",
              "          'online': 1,\n",
              "          'onsite': 1,\n",
              "          'opened': 1,\n",
              "          'operate': 1,\n",
              "          'operating': 1,\n",
              "          'option': 2,\n",
              "          'packages': 1,\n",
              "          'page': 1,\n",
              "          'paige': 1,\n",
              "          'painfulupdate': 1,\n",
              "          'paralysed': 1,\n",
              "          'particular': 1,\n",
              "          'pass': 1,\n",
              "          'past': 2,\n",
              "          'pause': 1,\n",
              "          'percent': 1,\n",
              "          'person': 2,\n",
              "          'phone': 9,\n",
              "          'playback': 2,\n",
              "          'plays': 1,\n",
              "          'plus': 2,\n",
              "          'point': 1,\n",
              "          'points': 2,\n",
              "          'policy': 1,\n",
              "          'poor': 1,\n",
              "          'possibly': 1,\n",
              "          'posted': 1,\n",
              "          'premium': 1,\n",
              "          'pretty': 1,\n",
              "          'printhead': 1,\n",
              "          'prior': 1,\n",
              "          'problem': 3,\n",
              "          'properly': 1,\n",
              "          'protect': 1,\n",
              "          'prove': 1,\n",
              "          'provide': 2,\n",
              "          'rashmi': 1,\n",
              "          'reaching': 3,\n",
              "          'read': 1,\n",
              "          'rebooking': 1,\n",
              "          'recd': 1,\n",
              "          'receive': 1,\n",
              "          'received': 1,\n",
              "          'refer': 1,\n",
              "          'refund': 1,\n",
              "          'regards': 1,\n",
              "          'reinstalling': 1,\n",
              "          'remaining': 1,\n",
              "          'removing': 1,\n",
              "          'reopen': 1,\n",
              "          'reply': 4,\n",
              "          'request': 1,\n",
              "          'reschedule': 1,\n",
              "          'responding': 1,\n",
              "          'response': 1,\n",
              "          'restart': 1,\n",
              "          'restarting': 2,\n",
              "          'running': 3,\n",
              "          'runs': 1,\n",
              "          'sales': 1,\n",
              "          'samsung': 1,\n",
              "          'sara': 1,\n",
              "          'send': 6,\n",
              "          'sending': 1,\n",
              "          'sense': 1,\n",
              "          'sent': 1,\n",
              "          'serial': 1,\n",
              "          'service': 3,\n",
              "          'settings': 1,\n",
              "          'shipped': 1,\n",
              "          'shit': 1,\n",
              "          'shopping': 1,\n",
              "          'short': 1,\n",
              "          'shortly': 1,\n",
              "          'shout': 1,\n",
              "          'sierra': 1,\n",
              "          'sign': 1,\n",
              "          'situation': 1,\n",
              "          'skipping': 2,\n",
              "          'slightly': 1,\n",
              "          'slots': 2,\n",
              "          'slow': 1,\n",
              "          'slowdown': 1,\n",
              "          'solution': 2,\n",
              "          'solved': 1,\n",
              "          'songs': 2,\n",
              "          'soon': 1,\n",
              "          'sorry': 5,\n",
              "          'sort': 1,\n",
              "          'sorted': 1,\n",
              "          'speaker': 4,\n",
              "          'spec': 1,\n",
              "          'specific': 1,\n",
              "          'spectrum': 1,\n",
              "          'speed': 1,\n",
              "          'spotify': 4,\n",
              "          'sprint': 2,\n",
              "          'stage': 1,\n",
              "          'start': 2,\n",
              "          'started': 1,\n",
              "          'status': 1,\n",
              "          'steps': 2,\n",
              "          'stop': 1,\n",
              "          'stopping': 1,\n",
              "          'store': 4,\n",
              "          'stores': 1,\n",
              "          'struggle': 1,\n",
              "          'sucks': 1,\n",
              "          'suddenly': 1,\n",
              "          'suffering': 1,\n",
              "          'super': 1,\n",
              "          'sure': 2,\n",
              "          'system': 1,\n",
              "          'tablet': 1,\n",
              "          'takes': 1,\n",
              "          'talkin': 1,\n",
              "          'tapped': 1,\n",
              "          'team': 1,\n",
              "          'telemarketer': 1,\n",
              "          'tell': 1,\n",
              "          'telling': 2,\n",
              "          'tempting': 1,\n",
              "          'thank': 1,\n",
              "          'thanks': 13,\n",
              "          'thin': 1,\n",
              "          'thing': 1,\n",
              "          'think': 2,\n",
              "          'thomas': 3,\n",
              "          'time': 4,\n",
              "          'times': 3,\n",
              "          'today': 3,\n",
              "          'tomorrow': 1,\n",
              "          'took': 1,\n",
              "          'travelling': 1,\n",
              "          'tried': 6,\n",
              "          'turned': 1,\n",
              "          'tweeting': 1,\n",
              "          'typing': 1,\n",
              "          'underage': 1,\n",
              "          'understand': 2,\n",
              "          'unlikely': 1,\n",
              "          'update': 7,\n",
              "          'updated': 3,\n",
              "          'updates': 1,\n",
              "          'version': 8,\n",
              "          'versions': 1,\n",
              "          'virtually': 1,\n",
              "          'voicemail': 1,\n",
              "          'wait': 1,\n",
              "          'warning': 1,\n",
              "          'website': 2,\n",
              "          'week': 2,\n",
              "          'weeks': 3,\n",
              "          'welcome': 1,\n",
              "          'whatsapp': 2,\n",
              "          'whatsoever': 1,\n",
              "          'wifi': 1,\n",
              "          'wish': 1,\n",
              "          'work': 1,\n",
              "          'working': 3,\n",
              "          'xfinity': 1,\n",
              "          'yard': 1})"
            ]
          },
          "metadata": {
            "tags": []
          },
          "execution_count": 47
        }
      ]
    },
    {
      "cell_type": "code",
      "metadata": {
        "colab": {
          "base_uri": "https://localhost:8080/"
        },
        "id": "7w52QrqEyCmK",
        "outputId": "5105f3fc-61fb-4fa7-bbe0-bf9e5a5a5064"
      },
      "source": [
        "for item in sorted(frequencia, key = frequencia.get, reverse=True):\n",
        "    print( item, frequencia[item])"
      ],
      "execution_count": 63,
      "outputs": [
        {
          "output_type": "stream",
          "text": [
            "help 19\n",
            "thanks 13\n",
            "phone 9\n",
            "version 8\n",
            "device 7\n",
            "look 7\n",
            "update 7\n",
            "tried 6\n",
            "send 6\n",
            "happy 6\n",
            "know 6\n",
            "apps 5\n",
            "sorry 5\n",
            "battery 5\n",
            "reply 4\n",
            "email 4\n",
            "apple 4\n",
            "iphone 4\n",
            "spotify 4\n",
            "speaker 4\n",
            "logging 4\n",
            "time 4\n",
            "like 4\n",
            "store 4\n",
            "hope 3\n",
            "times 3\n",
            "miriam 3\n",
            "today 3\n",
            "working 3\n",
            "number 3\n",
            "find 3\n",
            "latest 3\n",
            "reaching 3\n",
            "updated 3\n",
            "happening 3\n",
            "hear 3\n",
            "love 3\n",
            "experiencing 3\n",
            "delay 3\n",
            "life 3\n",
            "running 3\n",
            "weeks 3\n",
            "account 3\n",
            "service 3\n",
            "music 3\n",
            "problem 3\n",
            "issues 3\n",
            "issue 3\n",
            "address 3\n",
            "thomas 3\n",
            "cache 3\n",
            "cookies 3\n",
            "means 2\n",
            "code 2\n",
            "concern 2\n",
            "sure 2\n",
            "moment 2\n",
            "option 2\n",
            "message 2\n",
            "past 2\n",
            "week 2\n",
            "link 2\n",
            "haven 2\n",
            "doesn 2\n",
            "solution 2\n",
            "load 2\n",
            "android 2\n",
            "great 2\n",
            "bluetooth 2\n",
            "model 2\n",
            "distance 2\n",
            "matter 2\n",
            "playback 2\n",
            "restarting 2\n",
            "difference 2\n",
            "away 2\n",
            "skipping 2\n",
            "songs 2\n",
            "steps 2\n",
            "broken 2\n",
            "frequently 2\n",
            "flight 2\n",
            "long 2\n",
            "airways 2\n",
            "provide 2\n",
            "fucking 2\n",
            "minutes 2\n",
            "plus 2\n",
            "start 2\n",
            "getting 2\n",
            "understand 2\n",
            "experience 2\n",
            "hours 2\n",
            "assistance 2\n",
            "sprint 2\n",
            "happens 2\n",
            "listen 2\n",
            "whatsapp 2\n",
            "kind 2\n",
            "having 2\n",
            "exact 2\n",
            "points 2\n",
            "immediately 2\n",
            "answer 2\n",
            "depart 2\n",
            "called 2\n",
            "person 2\n",
            "buying 2\n",
            "colleagues 2\n",
            "think 2\n",
            "deleting 2\n",
            "mike 2\n",
            "telling 2\n",
            "delivery 2\n",
            "slots 2\n",
            "website 2\n",
            "causing 1\n",
            "disregarded 1\n",
            "tapped 1\n",
            "notification 1\n",
            "keyboard 1\n",
            "opened 1\n",
            "business 1\n",
            "additional 1\n",
            "details 1\n",
            "change 1\n",
            "livechat 1\n",
            "online 1\n",
            "contact 1\n",
            "leave 1\n",
            "request 1\n",
            "attached 1\n",
            "error 1\n",
            "leaving 1\n",
            "voicemail 1\n",
            "laptop 1\n",
            "different 1\n",
            "browsers 1\n",
            "heard 1\n",
            "directed 1\n",
            "dead 1\n",
            "live 1\n",
            "chat 1\n",
            "work 1\n",
            "team 1\n",
            "shortly 1\n",
            "settings 1\n",
            "general 1\n",
            "suffering 1\n",
            "slow 1\n",
            "suddenly 1\n",
            "takes 1\n",
            "ages 1\n",
            "hate 1\n",
            "versions 1\n",
            "armv 1\n",
            "anker 1\n",
            "samsung 1\n",
            "galaxy 1\n",
            "possibly 1\n",
            "affect 1\n",
            "moved 1\n",
            "metre 1\n",
            "metres 1\n",
            "fingers 1\n",
            "crossed 1\n",
            "comes 1\n",
            "carry 1\n",
            "helping 1\n",
            "brilliant 1\n",
            "welcome 1\n",
            "shout 1\n",
            "premium 1\n",
            "constantly 1\n",
            "tablet 1\n",
            "behaviors 1\n",
            "sucks 1\n",
            "wifi 1\n",
            "disconnects 1\n",
            "painfulupdate 1\n",
            "delayed 1\n",
            "beatner 1\n",
            "travelling 1\n",
            "departure 1\n",
            "short 1\n",
            "jump 1\n",
            "status 1\n",
            "updates 1\n",
            "important 1\n",
            "okay 1\n",
            "drains 1\n",
            "percent 1\n",
            "runs 1\n",
            "half 1\n",
            "crash 1\n",
            "paralysed 1\n",
            "grrrrrrrrrr 1\n",
            "calling 1\n",
            "info 1\n",
            "advise 1\n",
            "received 1\n",
            "calls 1\n",
            "telemarketer 1\n",
            "frustrating 1\n",
            "information 1\n",
            "internet 1\n",
            "xfinity 1\n",
            "talkin 1\n",
            "game 1\n",
            "messed 1\n",
            "frustrated 1\n",
            "situation 1\n",
            "follow 1\n",
            "sending 1\n",
            "cares 1\n",
            "refund 1\n",
            "pause 1\n",
            "harry 1\n",
            "check 1\n",
            "makes 1\n",
            "posted 1\n",
            "stage 1\n",
            "cheers 1\n",
            "thing 1\n",
            "come 1\n",
            "giving 1\n",
            "nudge 1\n",
            "operating 1\n",
            "system 1\n",
            "macbook 1\n",
            "early 1\n",
            "high 1\n",
            "sierra 1\n",
            ".gac 1\n",
            "plays 1\n",
            "stopping 1\n",
            "midway 1\n",
            "restart 1\n",
            "close 1\n",
            "reopen 1\n",
            "specific 1\n",
            "noticing 1\n",
            "read 1\n",
            "page 1\n",
            "turned 1\n",
            "virtually 1\n",
            "location 1\n",
            "typing 1\n",
            "dropped 1\n",
            "super 1\n",
            "solved 1\n",
            "killing 1\n",
            "months 1\n",
            "disgrace 1\n",
            "days 1\n",
            "took 1\n",
            "charge 1\n",
            "remaining 1\n",
            "sort 1\n",
            "receive 1\n",
            "congrats 1\n",
            "thank 1\n",
            "curious 1\n",
            "... 1\n",
            ". 1\n",
            "companion 1\n",
            "pass 1\n",
            "wait 1\n",
            "tell 1\n",
            "need 1\n",
            "recd 1\n",
            "sent 1\n",
            "going 1\n",
            "horrible 1\n",
            "appreciate 1\n",
            "hopefully 1\n",
            "soon 1\n",
            "inconvenience 1\n",
            "caused 1\n",
            "response 1\n",
            "onsite 1\n",
            "aircraft 1\n",
            "rebooking 1\n",
            "sorted 1\n",
            "regards 1\n",
            "jools 1\n",
            "poor 1\n",
            "spectrum 1\n",
            "yard 1\n",
            "customer 1\n",
            "pretty 1\n",
            "tempting 1\n",
            "coaxial 1\n",
            "guess 1\n",
            "free 1\n",
            "cable 1\n",
            "neighborhood 1\n",
            "colleague 1\n",
            "believes 1\n",
            "alcohol 1\n",
            "looks 1\n",
            "challenged 1\n",
            "prove 1\n",
            "paige 1\n",
            "maybe 1\n",
            "hire 1\n",
            "point 1\n",
            "enforced 1\n",
            "properly 1\n",
            "common 1\n",
            "sense 1\n",
            "correct 1\n",
            "helps 1\n",
            "judge 1\n",
            "protect 1\n",
            "making 1\n",
            "underage 1\n",
            "sales 1\n",
            "amanda 1\n",
            "offlicense 1\n",
            "operate 1\n",
            "policy 1\n",
            "stores 1\n",
            "flattered 1\n",
            "helena 1\n",
            "adnams 1\n",
            "broadside 1\n",
            "blind 1\n",
            "spec 1\n",
            "kilos 1\n",
            "reinstalling 1\n",
            "dani 1\n",
            "lose 1\n",
            "shopping 1\n",
            "delete 1\n",
            "sign 1\n",
            "prior 1\n",
            "basket 1\n",
            "whatsoever 1\n",
            "slightly 1\n",
            "unlikely 1\n",
            "particular 1\n",
            "cause 1\n",
            "join 1\n",
            "started 1\n",
            "currently 1\n",
            "stop 1\n",
            "warning 1\n",
            "freezes 1\n",
            "agoura 1\n",
            "tweeting 1\n",
            "refer 1\n",
            "article 1\n",
            "click 1\n",
            "rashmi 1\n",
            "printhead 1\n",
            "serial 1\n",
            "hpcswus 1\n",
            "hpprnt 1\n",
            "choice 1\n",
            "allow 1\n",
            "packages 1\n",
            "delivered 1\n",
            "wish 1\n",
            "amazon 1\n",
            "shipped 1\n",
            "avoid 1\n",
            "struggle 1\n",
            "reschedule 1\n",
            "shit 1\n",
            "tomorrow 1\n",
            "sara 1\n",
            "speed 1\n",
            "responding 1\n",
            "chris 1\n",
            "finding 1\n",
            "layout 1\n",
            "cumbersome 1\n",
            "removing 1\n",
            "item 1\n",
            "faves 1\n",
            "huge 1\n",
            "slowdown 1\n",
            "keen 1\n",
            "thin 1\n",
            "green 1\n",
            "line 1\n",
            "including 1\n",
            "browser 1\n"
          ],
          "name": "stdout"
        }
      ]
    }
  ]
}